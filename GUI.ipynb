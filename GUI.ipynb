{
 "cells": [
  {
   "cell_type": "code",
   "execution_count": 84,
   "id": "19c2baba",
   "metadata": {},
   "outputs": [],
   "source": [
    "from __future__ import print_function, division\n",
    "import SimpleITK as sitk\n",
    "import numpy as np\n",
    "import os\n",
    "from glob import glob\n",
    "import pandas as pd\n",
    "\n",
    "tqdm = lambda x: x"
   ]
  },
  {
   "cell_type": "code",
   "execution_count": 85,
   "id": "fb1aa93d",
   "metadata": {},
   "outputs": [],
   "source": [
    "def load_itkfilewithtrucation(filename, upper=200, lower=-200):\n",
    "    # 1,tructed outside of liver value\n",
    "    srcitkimage = sitk.Cast(sitk.ReadImage(filename), sitk.sitkFloat32)\n",
    "    srcitkimagearray = sitk.GetArrayFromImage(srcitkimage)\n",
    "    srcitkimagearray[srcitkimagearray > upper] = upper\n",
    "    srcitkimagearray[srcitkimagearray < lower] = lower\n",
    "    # 2,get tructed outside of liver value image\n",
    "    sitktructedimage = sitk.GetImageFromArray(srcitkimagearray)\n",
    "    origin = np.array(srcitkimage.GetOrigin())\n",
    "    spacing = np.array(srcitkimage.GetSpacing())\n",
    "    sitktructedimage.SetSpacing(spacing)\n",
    "    sitktructedimage.SetOrigin(origin)\n",
    "    # 3 normalization value to 0-255\n",
    "    rescalFilt = sitk.RescaleIntensityImageFilter()\n",
    "    rescalFilt.SetOutputMaximum(255)\n",
    "    rescalFilt.SetOutputMinimum(0)\n",
    "    itkimage = rescalFilt.Execute(sitk.Cast(sitktructedimage, sitk.sitkFloat32))\n",
    "    return itkimage\n",
    "def get_cube_from_img(img3d, center, block_size):\n",
    "    # get roi(z,y,z) image and in order the out of img3d(z,y,x)range\n",
    "    center_z = center[0]\n",
    "    center_y = center[1]\n",
    "    center_x = center[2]\n",
    "    start_x = max(center_x - block_size / 2, 0)\n",
    "    if start_x + block_size > img3d.shape[2]:\n",
    "        start_x = img3d.shape[2] - block_size\n",
    "    start_y = max(center_y - block_size / 2, 0)\n",
    "    if start_y + block_size > img3d.shape[1]:\n",
    "        start_y = img3d.shape[1] - block_size\n",
    "    start_z = max(center_z - block_size / 2, 0)\n",
    "    if start_z + block_size > img3d.shape[0]:\n",
    "        start_z = img3d.shape[0] - block_size\n",
    "    start_z = int(start_z)\n",
    "    start_y = int(start_y)\n",
    "    start_x = int(start_x)\n",
    "    roi_img3d = img3d[start_z:start_z + block_size, start_y:start_y + block_size, start_x:start_x + block_size]\n",
    "    return roi_img3d"
   ]
  },
  {
   "cell_type": "code",
   "execution_count": 86,
   "id": "29d1c94b",
   "metadata": {},
   "outputs": [],
   "source": [
    "img_file=r\"D:\\LUNA16\\subset2/1.3.6.1.4.1.14519.5.2.1.6279.6001.100621383016233746780170740405.mhd\"\n",
    "itk_img = load_itkfilewithtrucation(img_file, 600, -1000)\n",
    "img_array = sitk.GetArrayFromImage(itk_img)\n",
    "    # x,y,z  Origin in world coordinates (mm)\n",
    "origin = np.array(itk_img.GetOrigin())\n",
    "    # spacing of voxels in world coor. (mm)\n",
    "spacing = np.array(itk_img.GetSpacing())\n",
    "    # go through all nodes\n",
    "index = 0\n",
    "classify_size=48"
   ]
  },
  {
   "cell_type": "code",
   "execution_count": 87,
   "id": "4f605146",
   "metadata": {},
   "outputs": [
    {
     "data": {
      "text/plain": [
       "array([[[ 13,  17,  17, ...,  11,  13,  12],\n",
       "        [ 15,  16,  16, ...,  13,  14,  11],\n",
       "        [  9,  11,  11, ...,  11,   9,  10],\n",
       "        ...,\n",
       "        [229, 222, 211, ...,  20,  18,  16],\n",
       "        [222, 214, 206, ...,  19,  21,  29],\n",
       "        [216, 208, 194, ...,  19,  37,  70]],\n",
       "\n",
       "       [[ 10,  15,  21, ...,  11,  11,  10],\n",
       "        [ 14,  20,  23, ...,  16,  14,  11],\n",
       "        [ 15,  18,  19, ...,  15,  10,  10],\n",
       "        ...,\n",
       "        [201, 179, 147, ...,  19,   9,   7],\n",
       "        [182, 159, 133, ...,  22,  20,  19],\n",
       "        [166, 145, 120, ...,  27,  41,  56]],\n",
       "\n",
       "       [[  7,   6,  13, ...,   7,   8,  11],\n",
       "        [  7,   7,  10, ...,  10,  10,  11],\n",
       "        [  7,   6,   9, ...,  10,  10,  12],\n",
       "        ...,\n",
       "        [135, 110,  77, ...,  14,   7,   7],\n",
       "        [110,  85,  60, ...,  14,  11,  11],\n",
       "        [ 88,  71,  57, ...,  14,  25,  38]],\n",
       "\n",
       "       ...,\n",
       "\n",
       "       [[ 18,  24,  28, ...,  15,  13,  18],\n",
       "        [ 18,  26,  31, ...,  21,  19,  22],\n",
       "        [ 15,  23,  28, ...,  25,  18,  18],\n",
       "        ...,\n",
       "        [238, 224, 188, ...,  26,  20,  15],\n",
       "        [235, 218, 182, ...,  24,  31,  27],\n",
       "        [221, 207, 169, ...,  29,  35,  30]],\n",
       "\n",
       "       [[ 19,  20,  21, ...,  18,  18,  19],\n",
       "        [ 21,  22,  23, ...,  21,  22,  20],\n",
       "        [ 20,  19,  21, ...,  23,  21,  18],\n",
       "        ...,\n",
       "        [222, 189, 125, ...,  27,  25,  23],\n",
       "        [202, 168, 107, ...,  17,  24,  25],\n",
       "        [163, 140,  89, ...,  16,  22,  25]],\n",
       "\n",
       "       [[ 24,  25,  21, ...,  19,  19,  15],\n",
       "        [ 23,  25,  22, ...,  19,  17,  12],\n",
       "        [ 23,  24,  20, ...,  20,  11,   7],\n",
       "        ...,\n",
       "        [159, 116,  57, ...,  25,  26,  25],\n",
       "        [129,  99,  51, ...,  18,  20,  21],\n",
       "        [ 83,  69,  36, ...,  13,  13,  14]]], dtype=uint8)"
      ]
     },
     "execution_count": 87,
     "metadata": {},
     "output_type": "execute_result"
    }
   ],
   "source": [
    "node_x = 89.32\n",
    "node_y = 143.23\n",
    "node_z = -427.1\n",
    "# nodule center\n",
    "center = np.array([node_x, node_y, node_z])\n",
    "# nodule center in voxel space (still x,y,z ordering)  # clip prevents going out of bounds in Z\n",
    "v_center = np.rint((center - origin) / spacing)\n",
    "# convert x,y,z order v_center to z,y,z order v_center\n",
    "v_center[0], v_center[1], v_center[2] = v_center[2], v_center[1], v_center[0]\n",
    "# get cub size of classify_size\n",
    "node_cube = get_cube_from_img(img_array, v_center, classify_size)\n",
    "node_cube.astype(np.uint8)"
   ]
  },
  {
   "cell_type": "code",
   "execution_count": 88,
   "id": "b4bfd71c",
   "metadata": {},
   "outputs": [
    {
     "name": "stdout",
     "output_type": "stream",
     "text": [
      "sub\n"
     ]
    }
   ],
   "source": [
    "filepath=img_file[10:13]\n",
    "print(filepath)\n",
    "np.save(filepath + \".npy\", node_cube)"
   ]
  },
  {
   "cell_type": "code",
   "execution_count": 89,
   "id": "8ff0af16",
   "metadata": {},
   "outputs": [
    {
     "name": "stdout",
     "output_type": "stream",
     "text": [
      "C:\\Users\\dillu\\MAINPROJECT/sub.npy\n"
     ]
    }
   ],
   "source": [
    "i=r\"C:\\Users\\dillu\\MAINPROJECT/sub.npy\"\n",
    "print(i)\n",
    "fig1=[]\n",
    "img_array = np.load(r\"C:\\Users\\dillu\\MAINPROJECT/sub.npy\")\n",
    "img_array=img_array.reshape(192,192,3)\n",
    "fig1.append(img_array)"
   ]
  },
  {
   "cell_type": "code",
   "execution_count": 90,
   "id": "ad64fb19",
   "metadata": {},
   "outputs": [
    {
     "name": "stdout",
     "output_type": "stream",
     "text": [
      "[array([[[ 13.865625,  17.53125 ,  17.2125  ],\n",
      "        [ 14.821875,  15.3     ,  19.921875],\n",
      "        [ 24.225   ,  20.240625,  11.79375 ],\n",
      "        ...,\n",
      "        [  7.809375,  10.040625,  14.184375],\n",
      "        [ 26.615625,  48.76875 ,  59.925   ],\n",
      "        [ 59.128124,  50.68125 ,  32.034374]],\n",
      "\n",
      "       [[ 21.0375  ,  27.253124,  27.09375 ],\n",
      "        [ 14.025   ,   6.05625 ,  11.475   ],\n",
      "        [ 19.284374,  24.065624,  23.746876],\n",
      "        ...,\n",
      "        [ 17.371876,  20.71875 ,  22.153126],\n",
      "        [ 21.196875,  21.35625 ,  22.153126],\n",
      "        [ 22.3125  ,  15.9375  ,  10.8375  ]],\n",
      "\n",
      "       [[ 27.571875,  15.61875 ,  11.475   ],\n",
      "        [ 14.98125 ,  30.440624,  47.334373],\n",
      "        [ 43.190624,  31.715626,  25.659374],\n",
      "        ...,\n",
      "        [  6.05625 ,   3.50625 ,   9.721875],\n",
      "        [ 16.25625 ,  16.25625 ,  11.315625],\n",
      "        [  6.375   ,   3.665625,   4.78125 ]],\n",
      "\n",
      "       ...,\n",
      "\n",
      "       [[ 16.734375,  19.921875,  21.0375  ],\n",
      "        [ 33.946877,  63.590626,  87.3375  ],\n",
      "        [ 93.39375 ,  85.425   ,  66.61875 ],\n",
      "        ...,\n",
      "        [ 13.70625 ,  13.06875 ,  14.184375],\n",
      "        [ 19.921875,  31.396875,  40.640625],\n",
      "        [ 58.33125 , 102.47813 , 128.29688 ]],\n",
      "\n",
      "       [[183.91875 , 121.60313 ,  49.246876],\n",
      "        [ 19.125   ,  10.51875 ,   7.809375],\n",
      "        [ 12.909375,  19.921875,  26.934376],\n",
      "        ...,\n",
      "        [ 25.978125,  43.66875 ,  51.31875 ],\n",
      "        [ 48.928123,  51.95625 ,  63.75    ],\n",
      "        [ 67.25625 ,  47.971874,  25.659374]],\n",
      "\n",
      "       [[ 33.946877,   7.809375,   7.96875 ],\n",
      "        [  4.303125,   2.86875 ,   9.24375 ],\n",
      "        [ 11.953125,   8.60625 ,  10.2     ],\n",
      "        ...,\n",
      "        [ 14.34375 ,  11.634375,  14.184375],\n",
      "        [ 17.690624,  18.646875,  15.61875 ],\n",
      "        [ 13.70625 ,  13.865625,  14.34375 ]]], dtype=float32)]\n"
     ]
    }
   ],
   "source": [
    "print(fig1)"
   ]
  },
  {
   "cell_type": "code",
   "execution_count": 91,
   "id": "5039db1a",
   "metadata": {},
   "outputs": [],
   "source": [
    "X_test = np.array(fig1)\n",
    "X_test = X_test/255.0\n",
    "X_test = np.asarray(X_test).astype(np.float32)"
   ]
  },
  {
   "cell_type": "code",
   "execution_count": 92,
   "id": "8954653d",
   "metadata": {},
   "outputs": [],
   "source": [
    "from keras.models import load_model\n",
    "model=load_model(\"VGG16new.h5\")"
   ]
  },
  {
   "cell_type": "code",
   "execution_count": 93,
   "id": "e42cfce5",
   "metadata": {},
   "outputs": [
    {
     "name": "stdout",
     "output_type": "stream",
     "text": [
      "WARNING:tensorflow:5 out of the last 5 calls to <function Model.make_predict_function.<locals>.predict_function at 0x000002478A02A4C0> triggered tf.function retracing. Tracing is expensive and the excessive number of tracings could be due to (1) creating @tf.function repeatedly in a loop, (2) passing tensors with different shapes, (3) passing Python objects instead of tensors. For (1), please define your @tf.function outside of the loop. For (2), @tf.function has experimental_relax_shapes=True option that relaxes argument shapes that can avoid unnecessary retracing. For (3), please refer to https://www.tensorflow.org/guide/function#controlling_retracing and https://www.tensorflow.org/api_docs/python/tf/function for  more details.\n"
     ]
    }
   ],
   "source": [
    "y_pred1 = np.argmax(model.predict(X_test), axis=1)"
   ]
  },
  {
   "cell_type": "code",
   "execution_count": 94,
   "id": "33c89016",
   "metadata": {},
   "outputs": [
    {
     "name": "stdout",
     "output_type": "stream",
     "text": [
      "[0]\n"
     ]
    }
   ],
   "source": [
    "print(y_pred1)"
   ]
  },
  {
   "cell_type": "code",
   "execution_count": null,
   "id": "e19a677c",
   "metadata": {},
   "outputs": [],
   "source": [
    "1.3.6.1.4.1.14519.5.2.1.6279.6001.108197895896446896160048741492\n",
    "-100.70966\n",
    "68.191806\n"
   ]
  }
 ],
 "metadata": {
  "kernelspec": {
   "display_name": "Python 3",
   "language": "python",
   "name": "python3"
  },
  "language_info": {
   "codemirror_mode": {
    "name": "ipython",
    "version": 3
   },
   "file_extension": ".py",
   "mimetype": "text/x-python",
   "name": "python",
   "nbconvert_exporter": "python",
   "pygments_lexer": "ipython3",
   "version": "3.8.8"
  }
 },
 "nbformat": 4,
 "nbformat_minor": 5
}
